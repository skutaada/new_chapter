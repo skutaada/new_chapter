{
 "cells": [
  {
   "cell_type": "code",
   "execution_count": 17,
   "id": "fe3fe153-de0b-4f3f-b6dd-0da7e8327d21",
   "metadata": {},
   "outputs": [],
   "source": [
    "import json\n",
    "import statistics as s\n",
    "import pandas as pd\n",
    "import os\n",
    "import numpy as np\n",
    "\n",
    "pd.set_option('display.max_columns', None)\n",
    "pd.set_option('display.max_colwidth', None)"
   ]
  },
  {
   "cell_type": "code",
   "execution_count": 14,
   "id": "69671acb-267e-43cb-9f43-264fc3252670",
   "metadata": {},
   "outputs": [],
   "source": [
    "def load_all(root, ignore):\n",
    "    all_results = []\n",
    "    for f_n in os.listdir(root):\n",
    "        if \"json\" in f_n and f_n not in ignore:\n",
    "            full_p = os.path.join(root, f_n)\n",
    "            with open(full_p, 'r') as f:\n",
    "                res = json.load(f)\n",
    "            all_results.extend(res)\n",
    "    return all_results"
   ]
  },
  {
   "cell_type": "code",
   "execution_count": 18,
   "id": "025ec133-3c1e-4367-951e-d1fe808ce0c5",
   "metadata": {},
   "outputs": [],
   "source": [
    "results = load_all(\"results\", [\"mlp_test.json\"])\n",
    "df = pd.DataFrame(results)\n",
    "df['model_config'] = df['model_config'].apply(lambda x: f\"{len(x)}x{x[0]}\")\n",
    "df['input_shape'] = df['input_shape'].apply(str)\n",
    "df['mean_p'] = df['mean_p'].apply(abs)\n",
    "df['mean_s'] = df['mean_s'].apply(abs)\n",
    "df2 = df[df['type'] != \"LSTM\"]"
   ]
  },
  {
   "cell_type": "code",
   "execution_count": 19,
   "id": "6a95fb32-6572-441e-955b-ccf92be1d51b",
   "metadata": {
    "scrolled": true
   },
   "outputs": [
    {
     "data": {
      "text/html": [
       "<div>\n",
       "<style scoped>\n",
       "    .dataframe tbody tr th:only-of-type {\n",
       "        vertical-align: middle;\n",
       "    }\n",
       "\n",
       "    .dataframe tbody tr th {\n",
       "        vertical-align: top;\n",
       "    }\n",
       "\n",
       "    .dataframe thead th {\n",
       "        text-align: right;\n",
       "    }\n",
       "</style>\n",
       "<table border=\"1\" class=\"dataframe\">\n",
       "  <thead>\n",
       "    <tr style=\"text-align: right;\">\n",
       "      <th></th>\n",
       "      <th>type</th>\n",
       "      <th>model_config</th>\n",
       "    </tr>\n",
       "  </thead>\n",
       "  <tbody>\n",
       "    <tr>\n",
       "      <th>0</th>\n",
       "      <td>CNN</td>\n",
       "      <td>[3x64, 6x32, 12x16, 24x8, 48x4, 3x256, 6x128, 12x64, 24x32, 48x16, 3x128, 6x64, 12x32, 24x16, 48x8, 9x16, 12x8, 18x4, 3x512, 6x256, 12x128, 24x64, 48x32]</td>\n",
       "    </tr>\n",
       "    <tr>\n",
       "      <th>1</th>\n",
       "      <td>MLP</td>\n",
       "      <td>[1x512, 2x256, 4x128, 8x64, 16x32, 1x2048, 2x1024, 4x512, 8x256, 16x128, 1x1024, 2x512, 4x256, 8x128, 16x64, 1x4096, 2x2048, 4x1024, 8x512, 16x256]</td>\n",
       "    </tr>\n",
       "  </tbody>\n",
       "</table>\n",
       "</div>"
      ],
      "text/plain": [
       "  type  \\\n",
       "0  CNN   \n",
       "1  MLP   \n",
       "\n",
       "                                                                                                                                                model_config  \n",
       "0  [3x64, 6x32, 12x16, 24x8, 48x4, 3x256, 6x128, 12x64, 24x32, 48x16, 3x128, 6x64, 12x32, 24x16, 48x8, 9x16, 12x8, 18x4, 3x512, 6x256, 12x128, 24x64, 48x32]  \n",
       "1        [1x512, 2x256, 4x128, 8x64, 16x32, 1x2048, 2x1024, 4x512, 8x256, 16x128, 1x1024, 2x512, 4x256, 8x128, 16x64, 1x4096, 2x2048, 4x1024, 8x512, 16x256]  "
      ]
     },
     "execution_count": 19,
     "metadata": {},
     "output_type": "execute_result"
    }
   ],
   "source": [
    "configs = df2.groupby(\"type\")[\"model_config\"].unique().reset_index()\n",
    "configs"
   ]
  },
  {
   "cell_type": "code",
   "execution_count": 39,
   "id": "7c3cd3da-2107-43e2-ac92-dac5158dce6a",
   "metadata": {},
   "outputs": [
    {
     "name": "stdout",
     "output_type": "stream",
     "text": [
      "    type model_config  num_params      mean_s    mean_p   stdev_s   stdev_p  \\\n",
      "105  CNN        3x512     4737536   17.661723  0.023092  0.143993  0.006613   \n",
      "106  CNN        3x512     4737536   76.694281  0.021259  0.221657  0.004975   \n",
      "107  CNN        3x512     4737536  333.868944  0.024506  0.846024  0.003393   \n",
      "108  CNN        6x256     2958592   17.106694  0.035465  0.101506  0.008055   \n",
      "109  CNN        6x256     2958592   66.290559  0.035722  0.124045  0.007564   \n",
      "110  CNN        6x256     2958592  304.701884  0.034075  0.350291  0.006789   \n",
      "111  CNN       12x128     1626752   15.552739  0.058640  0.204486  0.019291   \n",
      "112  CNN       12x128     1626752   55.175037  0.056724  0.161994  0.007176   \n",
      "113  CNN       12x128     1626752  266.728202  0.109246  0.345507  0.006024   \n",
      "75   CNN        3x256     1189120    9.904262  0.023987  0.108484  0.007663   \n",
      "\n",
      "          input_shape  \n",
      "105    [1, 32, 32, 3]  \n",
      "106    [1, 64, 64, 3]  \n",
      "107  [1, 128, 128, 3]  \n",
      "108    [1, 32, 32, 3]  \n",
      "109    [1, 64, 64, 3]  \n",
      "110  [1, 128, 128, 3]  \n",
      "111    [1, 32, 32, 3]  \n",
      "112    [1, 64, 64, 3]  \n",
      "113  [1, 128, 128, 3]  \n",
      "75     [1, 32, 32, 3]  \n"
     ]
    },
    {
     "name": "stderr",
     "output_type": "stream",
     "text": [
      "/tmp/ipykernel_40571/2260609247.py:2: SettingWithCopyWarning: \n",
      "A value is trying to be set on a copy of a slice from a DataFrame.\n",
      "Try using .loc[row_indexer,col_indexer] = value instead\n",
      "\n",
      "See the caveats in the documentation: https://pandas.pydata.org/pandas-docs/stable/user_guide/indexing.html#returning-a-view-versus-a-copy\n",
      "  cnn_df['param_diff'] = np.abs(cnn_df['num_params'] - 25_000_000)\n"
     ]
    }
   ],
   "source": [
    "cnn_df = df2[df2['type'] == 'CNN']\n",
    "cnn_df['param_diff'] = np.abs(cnn_df['num_params'] - 25_000_000)\n",
    "closest_cnn = cnn_df.nsmallest(10, 'param_diff')[['type', 'model_config', 'num_params', 'mean_s', 'mean_p', 'stdev_s', 'stdev_p', 'input_shape']]\n",
    "print(closest_cnn)"
   ]
  },
  {
   "cell_type": "code",
   "execution_count": 42,
   "id": "ddb94888-a442-4122-844e-c82ee0175a03",
   "metadata": {},
   "outputs": [
    {
     "name": "stdout",
     "output_type": "stream",
     "text": [
      "   type model_config  num_params    mean_s    mean_p   stdev_s   stdev_p  \\\n",
      "42  MLP        16x32       20298  0.564591  0.071761  0.038907  0.007541   \n",
      "43  MLP        16x32       32586  0.570246  0.071448  0.038043  0.008078   \n",
      "39  MLP         8x64       38026  0.328945  0.050364  0.027779  0.007586   \n",
      "44  MLP        16x32       48970  0.574579  0.070653  0.037355  0.007857   \n",
      "40  MLP         8x64       62602  0.337611  0.047581  0.026447  0.006591   \n",
      "36  MLP        4x128       67338  0.222773  0.035366  0.019467  0.005155   \n",
      "72  MLP        16x64       70272  0.413655  0.056172  0.048564  0.002358   \n",
      "30  MLP        1x512       71178  0.151753  0.019643  0.015857  0.002112   \n",
      "73  MLP        16x64       94848  0.418680  0.056662  0.025684  0.002754   \n",
      "41  MLP         8x64       95370  0.343430  0.049144  0.024430  0.006885   \n",
      "\n",
      "   input_shape  \n",
      "42    [1, 128]  \n",
      "43    [1, 512]  \n",
      "39    [1, 128]  \n",
      "44   [1, 1024]  \n",
      "40    [1, 512]  \n",
      "36    [1, 128]  \n",
      "72    [1, 128]  \n",
      "30    [1, 128]  \n",
      "73    [1, 512]  \n",
      "41   [1, 1024]  \n"
     ]
    },
    {
     "name": "stderr",
     "output_type": "stream",
     "text": [
      "/tmp/ipykernel_40571/102550109.py:2: SettingWithCopyWarning: \n",
      "A value is trying to be set on a copy of a slice from a DataFrame.\n",
      "Try using .loc[row_indexer,col_indexer] = value instead\n",
      "\n",
      "See the caveats in the documentation: https://pandas.pydata.org/pandas-docs/stable/user_guide/indexing.html#returning-a-view-versus-a-copy\n",
      "  mlp_df['param_diff'] = np.abs(mlp_df['num_params'] - 3500)\n"
     ]
    }
   ],
   "source": [
    "mlp_df = df2[df2['type'] == 'MLP']\n",
    "mlp_df['param_diff'] = np.abs(mlp_df['num_params'] - 3500)\n",
    "closest_mlp = mlp_df.nsmallest(10, 'param_diff')[['type', 'model_config', 'num_params', 'mean_s', 'mean_p', 'stdev_s', 'stdev_p', 'input_shape']]\n",
    "print(closest_mlp)"
   ]
  }
 ],
 "metadata": {
  "kernelspec": {
   "display_name": "Python 3 (ipykernel)",
   "language": "python",
   "name": "python3"
  },
  "language_info": {
   "codemirror_mode": {
    "name": "ipython",
    "version": 3
   },
   "file_extension": ".py",
   "mimetype": "text/x-python",
   "name": "python",
   "nbconvert_exporter": "python",
   "pygments_lexer": "ipython3",
   "version": "3.10.13"
  }
 },
 "nbformat": 4,
 "nbformat_minor": 5
}
