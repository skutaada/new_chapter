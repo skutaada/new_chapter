{
 "cells": [
  {
   "cell_type": "code",
   "execution_count": 2,
   "id": "fe3fe153-de0b-4f3f-b6dd-0da7e8327d21",
   "metadata": {},
   "outputs": [],
   "source": [
    "import json\n",
    "import statistics as s"
   ]
  },
  {
   "cell_type": "code",
   "execution_count": 6,
   "id": "68041f4a-407c-44a1-a050-e948e13f86b2",
   "metadata": {},
   "outputs": [
    {
     "name": "stdout",
     "output_type": "stream",
     "text": [
      "Num samples: 1000\n",
      "Mean Plain: 0.0053945469856262205\n",
      "Std plain: 0.0007231878607665458\n",
      "Mean SMPC: 0.03550816035270691\n",
      "Std SMPC: 0.005474169769276747\n"
     ]
    }
   ],
   "source": [
    "with open(\"results/mlp_test.json\", 'r') as f:\n",
    "    results = json.load(f)\n",
    "\n",
    "print(f\"Num samples: {len(results['time_s'])}\")\n",
    "print(f\"Mean Plain: {s.mean(results['time_p'])}\")\n",
    "print(f\"Stdev plain: {s.stdev(results['time_p'])}\")\n",
    "print(f\"Mean SMPC: {s.mean(results['time_s'])}\")\n",
    "print(f\"Stdev SMPC: {s.stdev(results['time_s'])}\")"
   ]
  }
 ],
 "metadata": {
  "kernelspec": {
   "display_name": "Python 3 (ipykernel)",
   "language": "python",
   "name": "python3"
  },
  "language_info": {
   "codemirror_mode": {
    "name": "ipython",
    "version": 3
   },
   "file_extension": ".py",
   "mimetype": "text/x-python",
   "name": "python",
   "nbconvert_exporter": "python",
   "pygments_lexer": "ipython3",
   "version": "3.10.17"
  }
 },
 "nbformat": 4,
 "nbformat_minor": 5
}
