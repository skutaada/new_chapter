{
 "cells": [
  {
   "cell_type": "code",
   "execution_count": 2,
   "id": "0d30cc15-49f6-4e0b-8311-0979ba1f5807",
   "metadata": {},
   "outputs": [],
   "source": [
    "import jax\n",
    "from jax import numpy as jnp\n",
    "import scipy.optimize\n",
    "\n",
    "from models import LSTM\n",
    "from benchmark import count_parameters"
   ]
  },
  {
   "cell_type": "code",
   "execution_count": 41,
   "id": "8dd8c7a2-aae5-4443-a6b6-d435323a91fd",
   "metadata": {},
   "outputs": [
    {
     "name": "stdout",
     "output_type": "stream",
     "text": [
      "4396\n"
     ]
    }
   ],
   "source": [
    "rng = jax.random.PRNGKey(0)\n",
    "x_in = jax.random.normal(rng, (1, 1, 14))\n",
    "model1 = LSTM([7]*10)\n",
    "params = model1.init(rng, x_in)\n",
    "print(count_parameters(params))"
   ]
  }
 ],
 "metadata": {
  "kernelspec": {
   "display_name": "Python 3 (ipykernel)",
   "language": "python",
   "name": "python3"
  },
  "language_info": {
   "codemirror_mode": {
    "name": "ipython",
    "version": 3
   },
   "file_extension": ".py",
   "mimetype": "text/x-python",
   "name": "python",
   "nbconvert_exporter": "python",
   "pygments_lexer": "ipython3",
   "version": "3.10.17"
  }
 },
 "nbformat": 4,
 "nbformat_minor": 5
}
